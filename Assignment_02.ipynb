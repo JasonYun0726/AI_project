{
  "nbformat": 4,
  "nbformat_minor": 0,
  "metadata": {
    "colab": {
      "name": "Assignment 02.ipynb",
      "provenance": [],
      "collapsed_sections": [],
      "include_colab_link": true
    },
    "kernelspec": {
      "name": "python3",
      "display_name": "Python 3"
    },
    "language_info": {
      "name": "python"
    }
  },
  "cells": [
    {
      "cell_type": "markdown",
      "metadata": {
        "id": "view-in-github",
        "colab_type": "text"
      },
      "source": [
        "<a href=\"https://colab.research.google.com/github/JasonYun0726/AI_project/blob/main/Assignment_02.ipynb\" target=\"_parent\"><img src=\"https://colab.research.google.com/assets/colab-badge.svg\" alt=\"Open In Colab\"/></a>"
      ]
    },
    {
      "cell_type": "code",
      "execution_count": 10,
      "metadata": {
        "colab": {
          "base_uri": "https://localhost:8080/"
        },
        "id": "N9YUsOry9nD0",
        "outputId": "7ca9f9b1-f224-422c-feb4-6f329e394d4d"
      },
      "outputs": [
        {
          "output_type": "stream",
          "name": "stdout",
          "text": [
            "김밥의 가격은? ('김밥', 5000)\n"
          ]
        },
        {
          "output_type": "execute_result",
          "data": {
            "text/plain": [
              "dict_values([5000, 3000, 2000])"
            ]
          },
          "metadata": {},
          "execution_count": 10
        }
      ],
      "source": [
        "# 사전의 구조와 이해\n",
        "\n",
        "price = {'김밥': 5000, '어묵':3000, '떡볶이':2000}\n",
        "\n",
        "item=list(price.items())\n",
        "print(\"김밥의 가격은?\",item[0])\n",
        "price.values()"
      ]
    },
    {
      "cell_type": "code",
      "source": [
        "# 리스트의 슬라이싱을 사용하여 아래를 출력하세요\n",
        "\n",
        "tp = [1,2,3,4,5,6,7]\n",
        "\n",
        "print(tp[0])\n",
        "print(tp[:-4])\n",
        "print(tp[-4:])\n",
        "print(tp[-1])\n",
        "print(tp[::-1])\n",
        "\n"
      ],
      "metadata": {
        "colab": {
          "base_uri": "https://localhost:8080/"
        },
        "id": "lQCEERSl-Wba",
        "outputId": "c1658ac9-367e-477a-cb30-149e9314f04d"
      },
      "execution_count": 11,
      "outputs": [
        {
          "output_type": "stream",
          "name": "stdout",
          "text": [
            "1\n",
            "[1, 2, 3]\n",
            "[4, 5, 6, 7]\n",
            "7\n",
            "[7, 6, 5, 4, 3, 2, 1]\n"
          ]
        }
      ]
    },
    {
      "cell_type": "code",
      "source": [
        "# 조건문\n",
        "# 점수를 입력받아 등급을 출력하세요\n",
        "# 등급표 81~100\tA / 61~80\tB / 41~60\tC / 21~40\tD / 0~20\tE\n",
        "\n",
        "score = int(input(\"점수를 입력하세요: \"))\n",
        "if(score >= 81):    grade=\"A\"\n",
        "elif(score >= 61):    grade=\"B\"\n",
        "elif(score >= 41):    grade=\"C\"\n",
        "elif(score >= 21):    grade=\"D\"\n",
        "else:    grade=\"E\"\n",
        "print('점수는',score ,'점이며''등급은',grade,'등급입니다.')\n",
        "   \n",
        "\n",
        "\n"
      ],
      "metadata": {
        "colab": {
          "base_uri": "https://localhost:8080/"
        },
        "id": "YxX6NxrNCK5z",
        "outputId": "160add28-86b0-4dd2-a0a8-fd1bf1ea41fe"
      },
      "execution_count": 22,
      "outputs": [
        {
          "output_type": "stream",
          "name": "stdout",
          "text": [
            "점수를 입력하세요: 67\n",
            "점수는 67 점이며등급은 B 등급입니다.\n"
          ]
        }
      ]
    },
    {
      "cell_type": "code",
      "source": [
        "# 함수를 만들고 두 수를 입력받아 연산하세요\n",
        "\n",
        "a = int(input('첫 번째 정수를 입력하세요: '))\n",
        "b = int(input('두 번째 정수를 입력하세요: '))\n",
        "\n",
        "print(\"덧셈 함수 연산:\",a+b)\n",
        "print(\"곱셈 함수 연산:\",a*b)\n",
        "print(\"제곱 함수 연산:\",a**b)\n",
        "\n"
      ],
      "metadata": {
        "colab": {
          "base_uri": "https://localhost:8080/"
        },
        "id": "mD9n7jRG-8qL",
        "outputId": "8a8a38e5-6b66-48fd-f5dd-c8cd0902506a"
      },
      "execution_count": 25,
      "outputs": [
        {
          "output_type": "stream",
          "name": "stdout",
          "text": [
            "첫 번째 정수를 입력하세요: 3\n",
            "두 번째 정수를 입력하세요: 5\n",
            "덧셈 함수 연산: 8\n",
            "곱셈 함수 연산: 15\n",
            "제곱 함수 연산: 243\n"
          ]
        }
      ]
    },
    {
      "cell_type": "code",
      "source": [
        "# 알고리즘 생성\n",
        "# 피보나치 수열을 계산하는 함수를 생성하고 자연수 10을 넣어 실행하세요\n",
        "\n",
        "def pivo(n: int) -> int:\n",
        "  if n >= 2:\n",
        "        return pivo(n - 2) + pivo(n - 1)\n",
        "  else: \n",
        "        return n\n",
        "\n",
        "print(pivo(10))\n"
      ],
      "metadata": {
        "colab": {
          "base_uri": "https://localhost:8080/"
        },
        "id": "OL3QMyusC9V0",
        "outputId": "9e9a5e82-9bed-4aeb-fa2d-19dd35ebf5a7"
      },
      "execution_count": 29,
      "outputs": [
        {
          "output_type": "stream",
          "name": "stdout",
          "text": [
            "55\n"
          ]
        }
      ]
    },
    {
      "cell_type": "code",
      "source": [
        "# 클래스\n",
        "# 사람 (Human) 클래스를 정의하고 (이름, 나이, 성별)을 받는 생성자를 추가하세요.\n",
        "class Human:\n",
        "    def __init__(self, name, age, gender):\n",
        "        self.name = name\n",
        "        self.age = age\n",
        "        self.gender = gender\n",
        "\n",
        "    def who(self):\n",
        "        print(f\"이름: {self.name}, 나이: {self.age}, 성별: {self.gender}\")\n",
        "\n",
        "jsYun = Human(\"윤재상\", 25, \"남자\")\n",
        "jsYun.who()\n"
      ],
      "metadata": {
        "id": "nYv044w8Ae0Z",
        "colab": {
          "base_uri": "https://localhost:8080/"
        },
        "outputId": "7f9023d9-930b-49ff-930b-a9d5305dfc0f"
      },
      "execution_count": 34,
      "outputs": [
        {
          "output_type": "stream",
          "name": "stdout",
          "text": [
            "이름: 윤재상, 나이: 25, 성별: 남자\n"
          ]
        }
      ]
    }
  ]
}